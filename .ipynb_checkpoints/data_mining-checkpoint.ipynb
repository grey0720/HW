{
 "cells": [
  {
   "cell_type": "code",
   "execution_count": 11,
   "id": "c0e3155a",
   "metadata": {},
   "outputs": [],
   "source": [
    "import numpy as np\n",
    "import pandas as pd\n",
    "\n",
    "train_df = pd.read_csv('./purchase_train.csv')\n",
    "test_df = pd.read_csv('./purchase_test.csv')"
   ]
  },
  {
   "cell_type": "code",
   "execution_count": 12,
   "id": "17117382",
   "metadata": {},
   "outputs": [
    {
     "name": "stdout",
     "output_type": "stream",
     "text": [
      "<class 'pandas.core.frame.DataFrame'>\n",
      "RangeIndex: 10000 entries, 0 to 9999\n",
      "Data columns (total 13 columns):\n",
      " #   Column  Non-Null Count  Dtype  \n",
      "---  ------  --------------  -----  \n",
      " 0   X1      10000 non-null  int64  \n",
      " 1   X2      10000 non-null  float64\n",
      " 2   X3      10000 non-null  float64\n",
      " 3   X4      10000 non-null  float64\n",
      " 4   X5      10000 non-null  float64\n",
      " 5   X6      10000 non-null  object \n",
      " 6   X7      10000 non-null  int64  \n",
      " 7   X8      10000 non-null  int64  \n",
      " 8   X9      10000 non-null  int64  \n",
      " 9   X10     10000 non-null  int64  \n",
      " 10  X11     10000 non-null  object \n",
      " 11  X12     10000 non-null  bool   \n",
      " 12  y       10000 non-null  int64  \n",
      "dtypes: bool(1), float64(4), int64(6), object(2)\n",
      "memory usage: 947.4+ KB\n",
      "********************\n",
      "<class 'pandas.core.frame.DataFrame'>\n",
      "RangeIndex: 2204 entries, 0 to 2203\n",
      "Data columns (total 12 columns):\n",
      " #   Column  Non-Null Count  Dtype  \n",
      "---  ------  --------------  -----  \n",
      " 0   X1      2204 non-null   int64  \n",
      " 1   X2      2204 non-null   float64\n",
      " 2   X3      2204 non-null   float64\n",
      " 3   X4      2204 non-null   float64\n",
      " 4   X5      2204 non-null   float64\n",
      " 5   X6      2204 non-null   object \n",
      " 6   X7      2204 non-null   int64  \n",
      " 7   X8      2204 non-null   int64  \n",
      " 8   X9      2204 non-null   int64  \n",
      " 9   X10     2204 non-null   int64  \n",
      " 10  X11     2204 non-null   object \n",
      " 11  X12     2204 non-null   bool   \n",
      "dtypes: bool(1), float64(4), int64(5), object(2)\n",
      "memory usage: 191.7+ KB\n"
     ]
    }
   ],
   "source": [
    "# 각 컬럼 별 데이터 타입/결측값 여부 확인\n",
    "train_df.info()\n",
    "print('*'*20)\n",
    "test_df.info()"
   ]
  },
  {
   "cell_type": "markdown",
   "id": "66a464a0",
   "metadata": {},
   "source": [
    "### 결과\n",
    "- Train, Test에서 공통적으로 X6, X11에 object(string) 타입 발견 (전처리 필요)"
   ]
  },
  {
   "cell_type": "code",
   "execution_count": 13,
   "id": "34454e24",
   "metadata": {},
   "outputs": [
    {
     "name": "stdout",
     "output_type": "stream",
     "text": [
      "Before Encoding: ['May' 'Mar' 'Sep' 'Dec' 'Oct' 'Nov' 'Aug' 'Jul' 'June' 'Feb']\n",
      "After Encoding: [6 5 9 1 8 7 0 3 4 2]\n"
     ]
    }
   ],
   "source": [
    "# X6 데이터 확인\n",
    "print(\"Before Encoding:\", train_df['X6'].unique()) # nunique() = 컬럼 내 고유값의 개수, 출력값 10개 확인\n",
    "# 원핫 인코딩, 레이블 인코딩 사용 가능함\n",
    "# 단, 원핫 인코딩 잔행 시 가변수가 10개 늘어나는 결과 발생 -> 오히려 예측에 악영향 줄 수 있음\n",
    "# 레이블 인코딩으로 전처리 진행\n",
    "from sklearn.preprocessing import LabelEncoder\n",
    "label_encoder = LabelEncoder()\n",
    "train_df['X6'] = label_encoder.fit_transform(train_df['X6'])\n",
    "print(\"After Encoding:\", train_df['X6'].unique())\n",
    "\n",
    "# 레이블 인코딩 내역 확인\n",
    "mapping_dict = {label: index for index, label in enumerate(label_encoder.classes_)}\n",
    "print(f\"Mapping dictionary: {mapping_dict}\")\n",
    "# 단, 각 string이 가르키는 단어와 레이블 인코딩에 매칭된 숫자의 의미가 맞지 않음\n",
    "# 수동 코드로 진행함\n",
    "title_mapping = {\"May\": 5, \"Mar\": 4, \"Sep\": 9, \"Dec\": 10, \"Oct\": 5}\n",
    "for dataset in combine:\n",
    "    dataset['Title'] = dataset['Title'].map(title_mapping)"
   ]
  },
  {
   "cell_type": "code",
   "execution_count": 19,
   "id": "27dc1996",
   "metadata": {},
   "outputs": [],
   "source": [
    "# 같은 내용으로 Test 데이터셋에서도 레이블 인코딩\n",
    "test_df['X6'] = label_encoder.transform(test_df['X6']) "
   ]
  },
  {
   "cell_type": "code",
   "execution_count": 23,
   "id": "823f6b8e",
   "metadata": {},
   "outputs": [
    {
     "name": "stdout",
     "output_type": "stream",
     "text": [
      "Before Encoding: ['Returning_Visitor' 'New_Visitor' 'Other']\n",
      "After Encoding: [2 0 1]\n",
      "Mapping dictionary: {'New_Visitor': 0, 'Other': 1, 'Returning_Visitor': 2}\n"
     ]
    }
   ],
   "source": [
    "# X11 데이터 확인\n",
    "print(\"Before Encoding:\", train_df['X11'].unique())\n",
    "# Before Encoding: ['Returning_Visitor' 'New_Visitor' 'Other']\n",
    "# X6과 같이 레이블 인코딩\n",
    "\n",
    "label_encoder = LabelEncoder()\n",
    "train_df['X11'] = label_encoder.fit_transform(train_df['X11'])\n",
    "print(\"After Encoding:\", train_df['X11'].unique())\n",
    "\n",
    "# 레이블 인코딩 내역 확인\n",
    "mapping_dict = {label: index for index, label in enumerate(label_encoder.classes_)}\n",
    "print(f\"Mapping dictionary: {mapping_dict}\")"
   ]
  },
  {
   "cell_type": "code",
   "execution_count": 24,
   "id": "12f815c5",
   "metadata": {},
   "outputs": [],
   "source": [
    "test_df['X11'] = label_encoder.transform(test_df['X11']) "
   ]
  },
  {
   "cell_type": "code",
   "execution_count": null,
   "id": "07b77c75",
   "metadata": {},
   "outputs": [],
   "source": []
  }
 ],
 "metadata": {
  "kernelspec": {
   "display_name": "Python 3 (ipykernel)",
   "language": "python",
   "name": "python3"
  },
  "language_info": {
   "codemirror_mode": {
    "name": "ipython",
    "version": 3
   },
   "file_extension": ".py",
   "mimetype": "text/x-python",
   "name": "python",
   "nbconvert_exporter": "python",
   "pygments_lexer": "ipython3",
   "version": "3.9.17"
  }
 },
 "nbformat": 4,
 "nbformat_minor": 5
}
